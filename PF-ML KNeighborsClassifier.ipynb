{
 "cells": [
  {
   "cell_type": "markdown",
   "id": "f38da184-8108-4843-b6a4-f801ef1c8c3e",
   "metadata": {},
   "source": [
    "#        Proyecto Final\n",
    "# Tema: Mantenimiento Predictivo\n",
    "\n",
    "\n",
    "### Nombres:\n",
    "##### - Shirley Tenorio Oblitas\n",
    "##### - Víctor Hugo Achocalla Romero\n"
   ]
  },
  {
   "cell_type": "code",
   "execution_count": 721,
   "id": "79ef8094-c440-4b57-b6c5-b27e67479f67",
   "metadata": {},
   "outputs": [],
   "source": [
    "%matplotlib inline"
   ]
  },
  {
   "cell_type": "code",
   "execution_count": 722,
   "id": "126fe9f1-337c-4376-8bb1-8caca3a09af9",
   "metadata": {},
   "outputs": [],
   "source": [
    "import pandas as pd\n",
    "import numpy as np\n",
    "import matplotlib.pyplot as plt\n",
    "import seaborn as sns\n",
    "import datetime\n",
    "from sklearn.preprocessing import scale\n",
    "# libreria para separar datos de entrenamiento y pruebas\n",
    "from sklearn.model_selection import train_test_split\n",
    "# Permite estandarizar las caracteristicas\n",
    "from sklearn.preprocessing import StandardScaler\n",
    "# importamos el modelo de LogisticRegression\n",
    "from sklearn.linear_model import LogisticRegression\n",
    "# importamos el modelo de SVC\n",
    "from sklearn.svm import SVC\n",
    "# importamos el modelo de DecisionTreeClassifier\n",
    "from sklearn.tree import DecisionTreeClassifier\n",
    "# importamos el modelo de RandomForestClassifier\n",
    "from sklearn.ensemble import RandomForestClassifier\n",
    "# importamos el modelo de KNeighborsClassifier\n",
    "from sklearn.neighbors import KNeighborsClassifier\n",
    "# importamos la matriz de confusion\n",
    "from sklearn.metrics import confusion_matrix\n",
    "# importando clasificacion de reportes\n",
    "from sklearn.metrics import classification_report\n",
    "# importando oversampling SMOTE\n",
    "from imblearn.over_sampling import SMOTE"
   ]
  },
  {
   "cell_type": "code",
   "execution_count": 723,
   "id": "e51b4b6a-2db9-4681-badb-2aee85b4d847",
   "metadata": {},
   "outputs": [],
   "source": [
    "sns.set()"
   ]
  },
  {
   "cell_type": "markdown",
   "id": "508a251f-ed36-4091-a084-c61d0633487f",
   "metadata": {},
   "source": [
    "## 1. Preparación de los datos"
   ]
  },
  {
   "cell_type": "markdown",
   "id": "1e758812-96c5-4e66-99d4-b646378b0d6a",
   "metadata": {},
   "source": [
    "#### 1.1. Cargado de datos CSV"
   ]
  },
  {
   "cell_type": "code",
   "execution_count": 724,
   "id": "be584101-37e9-46b0-96a6-146f614ba395",
   "metadata": {},
   "outputs": [
    {
     "data": {
      "text/html": [
       "<div>\n",
       "<style scoped>\n",
       "    .dataframe tbody tr th:only-of-type {\n",
       "        vertical-align: middle;\n",
       "    }\n",
       "\n",
       "    .dataframe tbody tr th {\n",
       "        vertical-align: top;\n",
       "    }\n",
       "\n",
       "    .dataframe thead th {\n",
       "        text-align: right;\n",
       "    }\n",
       "</style>\n",
       "<table border=\"1\" class=\"dataframe\">\n",
       "  <thead>\n",
       "    <tr style=\"text-align: right;\">\n",
       "      <th></th>\n",
       "      <th>UDI</th>\n",
       "      <th>Product ID</th>\n",
       "      <th>Type</th>\n",
       "      <th>Air temperature [K]</th>\n",
       "      <th>Process temperature [K]</th>\n",
       "      <th>Rotational speed [rpm]</th>\n",
       "      <th>Torque [Nm]</th>\n",
       "      <th>Tool wear [min]</th>\n",
       "      <th>Target</th>\n",
       "      <th>Failure Type</th>\n",
       "    </tr>\n",
       "  </thead>\n",
       "  <tbody>\n",
       "    <tr>\n",
       "      <th>0</th>\n",
       "      <td>1</td>\n",
       "      <td>M14860</td>\n",
       "      <td>M</td>\n",
       "      <td>298.1</td>\n",
       "      <td>308.6</td>\n",
       "      <td>1551</td>\n",
       "      <td>42.8</td>\n",
       "      <td>0</td>\n",
       "      <td>0</td>\n",
       "      <td>No Failure</td>\n",
       "    </tr>\n",
       "    <tr>\n",
       "      <th>1</th>\n",
       "      <td>2</td>\n",
       "      <td>L47181</td>\n",
       "      <td>L</td>\n",
       "      <td>298.2</td>\n",
       "      <td>308.7</td>\n",
       "      <td>1408</td>\n",
       "      <td>46.3</td>\n",
       "      <td>3</td>\n",
       "      <td>0</td>\n",
       "      <td>No Failure</td>\n",
       "    </tr>\n",
       "    <tr>\n",
       "      <th>2</th>\n",
       "      <td>3</td>\n",
       "      <td>L47182</td>\n",
       "      <td>L</td>\n",
       "      <td>298.1</td>\n",
       "      <td>308.5</td>\n",
       "      <td>1498</td>\n",
       "      <td>49.4</td>\n",
       "      <td>5</td>\n",
       "      <td>0</td>\n",
       "      <td>No Failure</td>\n",
       "    </tr>\n",
       "    <tr>\n",
       "      <th>3</th>\n",
       "      <td>4</td>\n",
       "      <td>L47183</td>\n",
       "      <td>L</td>\n",
       "      <td>298.2</td>\n",
       "      <td>308.6</td>\n",
       "      <td>1433</td>\n",
       "      <td>39.5</td>\n",
       "      <td>7</td>\n",
       "      <td>0</td>\n",
       "      <td>No Failure</td>\n",
       "    </tr>\n",
       "    <tr>\n",
       "      <th>4</th>\n",
       "      <td>5</td>\n",
       "      <td>L47184</td>\n",
       "      <td>L</td>\n",
       "      <td>298.2</td>\n",
       "      <td>308.7</td>\n",
       "      <td>1408</td>\n",
       "      <td>40.0</td>\n",
       "      <td>9</td>\n",
       "      <td>0</td>\n",
       "      <td>No Failure</td>\n",
       "    </tr>\n",
       "  </tbody>\n",
       "</table>\n",
       "</div>"
      ],
      "text/plain": [
       "   UDI Product ID Type  Air temperature [K]  Process temperature [K]  \\\n",
       "0    1     M14860    M                298.1                    308.6   \n",
       "1    2     L47181    L                298.2                    308.7   \n",
       "2    3     L47182    L                298.1                    308.5   \n",
       "3    4     L47183    L                298.2                    308.6   \n",
       "4    5     L47184    L                298.2                    308.7   \n",
       "\n",
       "   Rotational speed [rpm]  Torque [Nm]  Tool wear [min]  Target Failure Type  \n",
       "0                    1551         42.8                0       0   No Failure  \n",
       "1                    1408         46.3                3       0   No Failure  \n",
       "2                    1498         49.4                5       0   No Failure  \n",
       "3                    1433         39.5                7       0   No Failure  \n",
       "4                    1408         40.0                9       0   No Failure  "
      ]
     },
     "execution_count": 724,
     "metadata": {},
     "output_type": "execute_result"
    }
   ],
   "source": [
    "dataset = pd.read_csv(\"predictive_maintenance.csv\")\n",
    "dataset.head(5)"
   ]
  },
  {
   "cell_type": "markdown",
   "id": "42db8430-1c2f-4367-b5f7-fafa491fb8e0",
   "metadata": {},
   "source": [
    "Cambiando los nombres de las columnas a valores más entendibles y manejables"
   ]
  },
  {
   "cell_type": "code",
   "execution_count": 725,
   "id": "cdb99e97-492f-453e-bfd1-f93dd14c177e",
   "metadata": {},
   "outputs": [
    {
     "data": {
      "text/html": [
       "<div>\n",
       "<style scoped>\n",
       "    .dataframe tbody tr th:only-of-type {\n",
       "        vertical-align: middle;\n",
       "    }\n",
       "\n",
       "    .dataframe tbody tr th {\n",
       "        vertical-align: top;\n",
       "    }\n",
       "\n",
       "    .dataframe thead th {\n",
       "        text-align: right;\n",
       "    }\n",
       "</style>\n",
       "<table border=\"1\" class=\"dataframe\">\n",
       "  <thead>\n",
       "    <tr style=\"text-align: right;\">\n",
       "      <th></th>\n",
       "      <th>id</th>\n",
       "      <th>id_producto</th>\n",
       "      <th>tipo</th>\n",
       "      <th>temperatura_aire</th>\n",
       "      <th>temperatura_proceso</th>\n",
       "      <th>velocidad_rotacion</th>\n",
       "      <th>torque</th>\n",
       "      <th>desgaste</th>\n",
       "      <th>objetivo</th>\n",
       "      <th>tipo_fallo</th>\n",
       "    </tr>\n",
       "  </thead>\n",
       "  <tbody>\n",
       "    <tr>\n",
       "      <th>0</th>\n",
       "      <td>1</td>\n",
       "      <td>M14860</td>\n",
       "      <td>M</td>\n",
       "      <td>298.1</td>\n",
       "      <td>308.6</td>\n",
       "      <td>1551</td>\n",
       "      <td>42.8</td>\n",
       "      <td>0</td>\n",
       "      <td>0</td>\n",
       "      <td>No Failure</td>\n",
       "    </tr>\n",
       "    <tr>\n",
       "      <th>1</th>\n",
       "      <td>2</td>\n",
       "      <td>L47181</td>\n",
       "      <td>L</td>\n",
       "      <td>298.2</td>\n",
       "      <td>308.7</td>\n",
       "      <td>1408</td>\n",
       "      <td>46.3</td>\n",
       "      <td>3</td>\n",
       "      <td>0</td>\n",
       "      <td>No Failure</td>\n",
       "    </tr>\n",
       "  </tbody>\n",
       "</table>\n",
       "</div>"
      ],
      "text/plain": [
       "   id id_producto tipo  temperatura_aire  temperatura_proceso  \\\n",
       "0   1      M14860    M             298.1                308.6   \n",
       "1   2      L47181    L             298.2                308.7   \n",
       "\n",
       "   velocidad_rotacion  torque  desgaste  objetivo  tipo_fallo  \n",
       "0                1551    42.8         0         0  No Failure  \n",
       "1                1408    46.3         3         0  No Failure  "
      ]
     },
     "execution_count": 725,
     "metadata": {},
     "output_type": "execute_result"
    }
   ],
   "source": [
    "dataset.columns = ['id','id_producto','tipo','temperatura_aire','temperatura_proceso','velocidad_rotacion','torque','desgaste','objetivo','tipo_fallo']\n",
    "dataset.head(2)"
   ]
  },
  {
   "cell_type": "markdown",
   "id": "774f9f54-f5e7-4fbb-a297-3e2778fa5ed5",
   "metadata": {},
   "source": [
    "#### 1.2. Buscando valores nulos en el dataset"
   ]
  },
  {
   "cell_type": "code",
   "execution_count": 726,
   "id": "77d05b94-160e-430a-8372-455f46876079",
   "metadata": {},
   "outputs": [
    {
     "data": {
      "text/plain": [
       "id                     0\n",
       "id_producto            0\n",
       "tipo                   0\n",
       "temperatura_aire       0\n",
       "temperatura_proceso    0\n",
       "velocidad_rotacion     0\n",
       "torque                 0\n",
       "desgaste               0\n",
       "objetivo               0\n",
       "tipo_fallo             0\n",
       "dtype: int64"
      ]
     },
     "execution_count": 726,
     "metadata": {},
     "output_type": "execute_result"
    }
   ],
   "source": [
    "dataset.isna().sum()"
   ]
  },
  {
   "cell_type": "code",
   "execution_count": 727,
   "id": "ff152bb5-5693-4195-934b-8a58aa205e56",
   "metadata": {},
   "outputs": [
    {
     "data": {
      "text/html": [
       "<div>\n",
       "<style scoped>\n",
       "    .dataframe tbody tr th:only-of-type {\n",
       "        vertical-align: middle;\n",
       "    }\n",
       "\n",
       "    .dataframe tbody tr th {\n",
       "        vertical-align: top;\n",
       "    }\n",
       "\n",
       "    .dataframe thead th {\n",
       "        text-align: right;\n",
       "    }\n",
       "</style>\n",
       "<table border=\"1\" class=\"dataframe\">\n",
       "  <thead>\n",
       "    <tr style=\"text-align: right;\">\n",
       "      <th></th>\n",
       "      <th>id</th>\n",
       "      <th>id_producto</th>\n",
       "      <th>tipo</th>\n",
       "      <th>temperatura_aire</th>\n",
       "      <th>temperatura_proceso</th>\n",
       "      <th>velocidad_rotacion</th>\n",
       "      <th>torque</th>\n",
       "      <th>desgaste</th>\n",
       "      <th>objetivo</th>\n",
       "      <th>tipo_fallo</th>\n",
       "    </tr>\n",
       "  </thead>\n",
       "  <tbody>\n",
       "    <tr>\n",
       "      <th>0</th>\n",
       "      <td>1</td>\n",
       "      <td>M14860</td>\n",
       "      <td>M</td>\n",
       "      <td>298.1</td>\n",
       "      <td>308.6</td>\n",
       "      <td>1551</td>\n",
       "      <td>42.8</td>\n",
       "      <td>0</td>\n",
       "      <td>0</td>\n",
       "      <td>No Failure</td>\n",
       "    </tr>\n",
       "    <tr>\n",
       "      <th>1</th>\n",
       "      <td>2</td>\n",
       "      <td>L47181</td>\n",
       "      <td>L</td>\n",
       "      <td>298.2</td>\n",
       "      <td>308.7</td>\n",
       "      <td>1408</td>\n",
       "      <td>46.3</td>\n",
       "      <td>3</td>\n",
       "      <td>0</td>\n",
       "      <td>No Failure</td>\n",
       "    </tr>\n",
       "    <tr>\n",
       "      <th>2</th>\n",
       "      <td>3</td>\n",
       "      <td>L47182</td>\n",
       "      <td>L</td>\n",
       "      <td>298.1</td>\n",
       "      <td>308.5</td>\n",
       "      <td>1498</td>\n",
       "      <td>49.4</td>\n",
       "      <td>5</td>\n",
       "      <td>0</td>\n",
       "      <td>No Failure</td>\n",
       "    </tr>\n",
       "    <tr>\n",
       "      <th>3</th>\n",
       "      <td>4</td>\n",
       "      <td>L47183</td>\n",
       "      <td>L</td>\n",
       "      <td>298.2</td>\n",
       "      <td>308.6</td>\n",
       "      <td>1433</td>\n",
       "      <td>39.5</td>\n",
       "      <td>7</td>\n",
       "      <td>0</td>\n",
       "      <td>No Failure</td>\n",
       "    </tr>\n",
       "    <tr>\n",
       "      <th>4</th>\n",
       "      <td>5</td>\n",
       "      <td>L47184</td>\n",
       "      <td>L</td>\n",
       "      <td>298.2</td>\n",
       "      <td>308.7</td>\n",
       "      <td>1408</td>\n",
       "      <td>40.0</td>\n",
       "      <td>9</td>\n",
       "      <td>0</td>\n",
       "      <td>No Failure</td>\n",
       "    </tr>\n",
       "    <tr>\n",
       "      <th>...</th>\n",
       "      <td>...</td>\n",
       "      <td>...</td>\n",
       "      <td>...</td>\n",
       "      <td>...</td>\n",
       "      <td>...</td>\n",
       "      <td>...</td>\n",
       "      <td>...</td>\n",
       "      <td>...</td>\n",
       "      <td>...</td>\n",
       "      <td>...</td>\n",
       "    </tr>\n",
       "    <tr>\n",
       "      <th>9995</th>\n",
       "      <td>9996</td>\n",
       "      <td>M24855</td>\n",
       "      <td>M</td>\n",
       "      <td>298.8</td>\n",
       "      <td>308.4</td>\n",
       "      <td>1604</td>\n",
       "      <td>29.5</td>\n",
       "      <td>14</td>\n",
       "      <td>0</td>\n",
       "      <td>No Failure</td>\n",
       "    </tr>\n",
       "    <tr>\n",
       "      <th>9996</th>\n",
       "      <td>9997</td>\n",
       "      <td>H39410</td>\n",
       "      <td>H</td>\n",
       "      <td>298.9</td>\n",
       "      <td>308.4</td>\n",
       "      <td>1632</td>\n",
       "      <td>31.8</td>\n",
       "      <td>17</td>\n",
       "      <td>0</td>\n",
       "      <td>No Failure</td>\n",
       "    </tr>\n",
       "    <tr>\n",
       "      <th>9997</th>\n",
       "      <td>9998</td>\n",
       "      <td>M24857</td>\n",
       "      <td>M</td>\n",
       "      <td>299.0</td>\n",
       "      <td>308.6</td>\n",
       "      <td>1645</td>\n",
       "      <td>33.4</td>\n",
       "      <td>22</td>\n",
       "      <td>0</td>\n",
       "      <td>No Failure</td>\n",
       "    </tr>\n",
       "    <tr>\n",
       "      <th>9998</th>\n",
       "      <td>9999</td>\n",
       "      <td>H39412</td>\n",
       "      <td>H</td>\n",
       "      <td>299.0</td>\n",
       "      <td>308.7</td>\n",
       "      <td>1408</td>\n",
       "      <td>48.5</td>\n",
       "      <td>25</td>\n",
       "      <td>0</td>\n",
       "      <td>No Failure</td>\n",
       "    </tr>\n",
       "    <tr>\n",
       "      <th>9999</th>\n",
       "      <td>10000</td>\n",
       "      <td>M24859</td>\n",
       "      <td>M</td>\n",
       "      <td>299.0</td>\n",
       "      <td>308.7</td>\n",
       "      <td>1500</td>\n",
       "      <td>40.2</td>\n",
       "      <td>30</td>\n",
       "      <td>0</td>\n",
       "      <td>No Failure</td>\n",
       "    </tr>\n",
       "  </tbody>\n",
       "</table>\n",
       "<p>10000 rows × 10 columns</p>\n",
       "</div>"
      ],
      "text/plain": [
       "         id id_producto tipo  temperatura_aire  temperatura_proceso  \\\n",
       "0         1      M14860    M             298.1                308.6   \n",
       "1         2      L47181    L             298.2                308.7   \n",
       "2         3      L47182    L             298.1                308.5   \n",
       "3         4      L47183    L             298.2                308.6   \n",
       "4         5      L47184    L             298.2                308.7   \n",
       "...     ...         ...  ...               ...                  ...   \n",
       "9995   9996      M24855    M             298.8                308.4   \n",
       "9996   9997      H39410    H             298.9                308.4   \n",
       "9997   9998      M24857    M             299.0                308.6   \n",
       "9998   9999      H39412    H             299.0                308.7   \n",
       "9999  10000      M24859    M             299.0                308.7   \n",
       "\n",
       "      velocidad_rotacion  torque  desgaste  objetivo  tipo_fallo  \n",
       "0                   1551    42.8         0         0  No Failure  \n",
       "1                   1408    46.3         3         0  No Failure  \n",
       "2                   1498    49.4         5         0  No Failure  \n",
       "3                   1433    39.5         7         0  No Failure  \n",
       "4                   1408    40.0         9         0  No Failure  \n",
       "...                  ...     ...       ...       ...         ...  \n",
       "9995                1604    29.5        14         0  No Failure  \n",
       "9996                1632    31.8        17         0  No Failure  \n",
       "9997                1645    33.4        22         0  No Failure  \n",
       "9998                1408    48.5        25         0  No Failure  \n",
       "9999                1500    40.2        30         0  No Failure  \n",
       "\n",
       "[10000 rows x 10 columns]"
      ]
     },
     "execution_count": 727,
     "metadata": {},
     "output_type": "execute_result"
    }
   ],
   "source": [
    "dataset.dropna()"
   ]
  },
  {
   "cell_type": "markdown",
   "id": "f3ddecad-ba77-4d97-8db4-fbf68e041ff1",
   "metadata": {},
   "source": [
    "Después de filtrar todos los valores nulos y sumarlos por cada columna podemos determinar que no existen valores nulos, pasando a los siguientes pasos."
   ]
  },
  {
   "cell_type": "markdown",
   "id": "5439ba11-0565-4228-8375-0e33e64dc71a",
   "metadata": {},
   "source": [
    "#### 1.3. Obteniendo información del dataset"
   ]
  },
  {
   "cell_type": "code",
   "execution_count": 728,
   "id": "daea2b6b-7c79-4973-a7ba-1844e27be23f",
   "metadata": {},
   "outputs": [
    {
     "name": "stdout",
     "output_type": "stream",
     "text": [
      "<class 'pandas.core.frame.DataFrame'>\n",
      "RangeIndex: 10000 entries, 0 to 9999\n",
      "Data columns (total 10 columns):\n",
      " #   Column               Non-Null Count  Dtype  \n",
      "---  ------               --------------  -----  \n",
      " 0   id                   10000 non-null  int64  \n",
      " 1   id_producto          10000 non-null  object \n",
      " 2   tipo                 10000 non-null  object \n",
      " 3   temperatura_aire     10000 non-null  float64\n",
      " 4   temperatura_proceso  10000 non-null  float64\n",
      " 5   velocidad_rotacion   10000 non-null  int64  \n",
      " 6   torque               10000 non-null  float64\n",
      " 7   desgaste             10000 non-null  int64  \n",
      " 8   objetivo             10000 non-null  int64  \n",
      " 9   tipo_fallo           10000 non-null  object \n",
      "dtypes: float64(3), int64(4), object(3)\n",
      "memory usage: 781.4+ KB\n"
     ]
    }
   ],
   "source": [
    "dataset.info()"
   ]
  },
  {
   "cell_type": "code",
   "execution_count": 729,
   "id": "c9290bb8-f513-42e7-861d-21f3499fad0c",
   "metadata": {},
   "outputs": [
    {
     "data": {
      "text/html": [
       "<div>\n",
       "<style scoped>\n",
       "    .dataframe tbody tr th:only-of-type {\n",
       "        vertical-align: middle;\n",
       "    }\n",
       "\n",
       "    .dataframe tbody tr th {\n",
       "        vertical-align: top;\n",
       "    }\n",
       "\n",
       "    .dataframe thead th {\n",
       "        text-align: right;\n",
       "    }\n",
       "</style>\n",
       "<table border=\"1\" class=\"dataframe\">\n",
       "  <thead>\n",
       "    <tr style=\"text-align: right;\">\n",
       "      <th></th>\n",
       "      <th>id</th>\n",
       "      <th>temperatura_aire</th>\n",
       "      <th>temperatura_proceso</th>\n",
       "      <th>velocidad_rotacion</th>\n",
       "      <th>torque</th>\n",
       "      <th>desgaste</th>\n",
       "      <th>objetivo</th>\n",
       "    </tr>\n",
       "  </thead>\n",
       "  <tbody>\n",
       "    <tr>\n",
       "      <th>count</th>\n",
       "      <td>10000.00000</td>\n",
       "      <td>10000.000000</td>\n",
       "      <td>10000.000000</td>\n",
       "      <td>10000.000000</td>\n",
       "      <td>10000.000000</td>\n",
       "      <td>10000.000000</td>\n",
       "      <td>10000.000000</td>\n",
       "    </tr>\n",
       "    <tr>\n",
       "      <th>mean</th>\n",
       "      <td>5000.50000</td>\n",
       "      <td>300.004930</td>\n",
       "      <td>310.005560</td>\n",
       "      <td>1538.776100</td>\n",
       "      <td>39.986910</td>\n",
       "      <td>107.951000</td>\n",
       "      <td>0.033900</td>\n",
       "    </tr>\n",
       "    <tr>\n",
       "      <th>std</th>\n",
       "      <td>2886.89568</td>\n",
       "      <td>2.000259</td>\n",
       "      <td>1.483734</td>\n",
       "      <td>179.284096</td>\n",
       "      <td>9.968934</td>\n",
       "      <td>63.654147</td>\n",
       "      <td>0.180981</td>\n",
       "    </tr>\n",
       "    <tr>\n",
       "      <th>min</th>\n",
       "      <td>1.00000</td>\n",
       "      <td>295.300000</td>\n",
       "      <td>305.700000</td>\n",
       "      <td>1168.000000</td>\n",
       "      <td>3.800000</td>\n",
       "      <td>0.000000</td>\n",
       "      <td>0.000000</td>\n",
       "    </tr>\n",
       "    <tr>\n",
       "      <th>25%</th>\n",
       "      <td>2500.75000</td>\n",
       "      <td>298.300000</td>\n",
       "      <td>308.800000</td>\n",
       "      <td>1423.000000</td>\n",
       "      <td>33.200000</td>\n",
       "      <td>53.000000</td>\n",
       "      <td>0.000000</td>\n",
       "    </tr>\n",
       "    <tr>\n",
       "      <th>50%</th>\n",
       "      <td>5000.50000</td>\n",
       "      <td>300.100000</td>\n",
       "      <td>310.100000</td>\n",
       "      <td>1503.000000</td>\n",
       "      <td>40.100000</td>\n",
       "      <td>108.000000</td>\n",
       "      <td>0.000000</td>\n",
       "    </tr>\n",
       "    <tr>\n",
       "      <th>75%</th>\n",
       "      <td>7500.25000</td>\n",
       "      <td>301.500000</td>\n",
       "      <td>311.100000</td>\n",
       "      <td>1612.000000</td>\n",
       "      <td>46.800000</td>\n",
       "      <td>162.000000</td>\n",
       "      <td>0.000000</td>\n",
       "    </tr>\n",
       "    <tr>\n",
       "      <th>max</th>\n",
       "      <td>10000.00000</td>\n",
       "      <td>304.500000</td>\n",
       "      <td>313.800000</td>\n",
       "      <td>2886.000000</td>\n",
       "      <td>76.600000</td>\n",
       "      <td>253.000000</td>\n",
       "      <td>1.000000</td>\n",
       "    </tr>\n",
       "  </tbody>\n",
       "</table>\n",
       "</div>"
      ],
      "text/plain": [
       "                id  temperatura_aire  temperatura_proceso  velocidad_rotacion  \\\n",
       "count  10000.00000      10000.000000         10000.000000        10000.000000   \n",
       "mean    5000.50000        300.004930           310.005560         1538.776100   \n",
       "std     2886.89568          2.000259             1.483734          179.284096   \n",
       "min        1.00000        295.300000           305.700000         1168.000000   \n",
       "25%     2500.75000        298.300000           308.800000         1423.000000   \n",
       "50%     5000.50000        300.100000           310.100000         1503.000000   \n",
       "75%     7500.25000        301.500000           311.100000         1612.000000   \n",
       "max    10000.00000        304.500000           313.800000         2886.000000   \n",
       "\n",
       "             torque      desgaste      objetivo  \n",
       "count  10000.000000  10000.000000  10000.000000  \n",
       "mean      39.986910    107.951000      0.033900  \n",
       "std        9.968934     63.654147      0.180981  \n",
       "min        3.800000      0.000000      0.000000  \n",
       "25%       33.200000     53.000000      0.000000  \n",
       "50%       40.100000    108.000000      0.000000  \n",
       "75%       46.800000    162.000000      0.000000  \n",
       "max       76.600000    253.000000      1.000000  "
      ]
     },
     "execution_count": 729,
     "metadata": {},
     "output_type": "execute_result"
    }
   ],
   "source": [
    "dataset.describe()"
   ]
  },
  {
   "cell_type": "markdown",
   "id": "0b70025e-67be-471d-a865-792bfcad9b9d",
   "metadata": {},
   "source": [
    "Como se puede observar las columnas de tipo Object: id_producto (identificador único de producto), tipo (calidad H \"high o alta\", M \"medium o media\" y L \"low o baja\"), tipo_fallo (varios tipos de fallo). debemos analizar todas estas columnas."
   ]
  },
  {
   "cell_type": "markdown",
   "id": "61049f38-46fb-407b-8370-b1374a2c6a13",
   "metadata": {},
   "source": [
    "#### 1.4. Analizando columnas (id_producto, tipo, tipo_fallo)"
   ]
  },
  {
   "cell_type": "markdown",
   "id": "0e0e6033-499a-45d9-9637-46116f1577a9",
   "metadata": {},
   "source": [
    "##### 1.4.1. Analizando columna 'id'"
   ]
  },
  {
   "cell_type": "code",
   "execution_count": 730,
   "id": "d07a1202-98d5-4227-89a8-c92acaf1e825",
   "metadata": {},
   "outputs": [
    {
     "data": {
      "text/plain": [
       "2049    1\n",
       "8865    1\n",
       "6806    1\n",
       "4759    1\n",
       "8857    1\n",
       "       ..\n",
       "9526    1\n",
       "5432    1\n",
       "7481    1\n",
       "1338    1\n",
       "2047    1\n",
       "Name: id, Length: 10000, dtype: int64"
      ]
     },
     "execution_count": 730,
     "metadata": {},
     "output_type": "execute_result"
    }
   ],
   "source": [
    "dataset['id'].value_counts()"
   ]
  },
  {
   "cell_type": "markdown",
   "id": "6b8e2969-2645-418e-b4bb-583db5a69812",
   "metadata": {},
   "source": [
    "Podemos observar que todas las filas de esta columnas son únicas, por lo tanto simplemente se considera identificador de fila y esta información no es importante para la ser utilizado en modelado."
   ]
  },
  {
   "cell_type": "markdown",
   "id": "0e6fe2dc-ffaa-44e9-bb99-71c831b6758a",
   "metadata": {},
   "source": [
    "##### 1.4.2. Analizando columna 'id_producto'"
   ]
  },
  {
   "cell_type": "code",
   "execution_count": 731,
   "id": "c21a638c-f4f9-4d8e-9cea-744c14f76c22",
   "metadata": {},
   "outputs": [
    {
     "data": {
      "text/plain": [
       "L54936    1\n",
       "L56860    1\n",
       "L50709    1\n",
       "L56873    1\n",
       "L56834    1\n",
       "         ..\n",
       "L53941    1\n",
       "M19058    1\n",
       "M17563    1\n",
       "M22620    1\n",
       "L54218    1\n",
       "Name: id_producto, Length: 10000, dtype: int64"
      ]
     },
     "execution_count": 731,
     "metadata": {},
     "output_type": "execute_result"
    }
   ],
   "source": [
    "dataset['id_producto'].value_counts()"
   ]
  },
  {
   "cell_type": "markdown",
   "id": "0d5608cc-a166-49a2-932d-31b575196dd8",
   "metadata": {},
   "source": [
    "Podemos observar que todas las filas de esta columna son únicas, por lo tanto, simplemente se considera identificador de producto único y esta información no es importante para la ser utilizado en modelado."
   ]
  },
  {
   "cell_type": "markdown",
   "id": "42636021-2f9b-4eed-a345-9effe896c4e3",
   "metadata": {},
   "source": [
    "##### 1.4.3. Analizando columna 'tipo'"
   ]
  },
  {
   "cell_type": "code",
   "execution_count": 732,
   "id": "5ef10a5b-4aab-4e08-b0ac-da3c03950d51",
   "metadata": {},
   "outputs": [
    {
     "data": {
      "text/plain": [
       "L    6000\n",
       "M    2997\n",
       "H    1003\n",
       "Name: tipo, dtype: int64"
      ]
     },
     "execution_count": 732,
     "metadata": {},
     "output_type": "execute_result"
    }
   ],
   "source": [
    "dataset['tipo'].value_counts()"
   ]
  },
  {
   "cell_type": "code",
   "execution_count": 733,
   "id": "9a02bd91-ac96-4c59-8d8c-9c9d1ffc2c33",
   "metadata": {},
   "outputs": [
    {
     "data": {
      "text/plain": [
       "L    60.00\n",
       "M    29.97\n",
       "H    10.03\n",
       "Name: tipo, dtype: float64"
      ]
     },
     "execution_count": 733,
     "metadata": {},
     "output_type": "execute_result"
    }
   ],
   "source": [
    "(dataset['tipo'].value_counts()/dataset.shape[0]*100).round(2)"
   ]
  },
  {
   "cell_type": "code",
   "execution_count": 734,
   "id": "5c14fff2-b3d4-48ab-baf1-979065a4d14c",
   "metadata": {},
   "outputs": [
    {
     "data": {
      "text/plain": [
       "<AxesSubplot:xlabel='tipo', ylabel='count'>"
      ]
     },
     "execution_count": 734,
     "metadata": {},
     "output_type": "execute_result"
    },
    {
     "data": {
      "image/png": "[encoded data removed]",
      "text/plain": [
       "<Figure size 720x360 with 1 Axes>"
      ]
     },
     "metadata": {},
     "output_type": "display_data"
    }
   ],
   "source": [
    "plt.figure(figsize=(10,5))\n",
    "sns.countplot(data=dataset,x='tipo')"
   ]
  },
  {
   "cell_type": "markdown",
   "id": "0557d7ac-3bd2-4303-847d-9a5fd67e33cc",
   "metadata": {},
   "source": [
    "Esta columna tiene tres diferentes datos nominales que se deben categorizar. siendo 60% de los productos de calidad baja 'L', 29.97% productos de calidad media y 10.03% productos de calidad alta."
   ]
  },
  {
   "cell_type": "markdown",
   "id": "bc05ae69-b94f-4103-bb0c-c1dbae5f78f3",
   "metadata": {},
   "source": [
    "##### 1.4.4. Analizando columna 'tipo_fallo'"
   ]
  },
  {
   "cell_type": "code",
   "execution_count": 735,
   "id": "804ec2e1-77c1-405c-b721-36431d61d79c",
   "metadata": {},
   "outputs": [
    {
     "data": {
      "text/plain": [
       "No Failure                  9652\n",
       "Heat Dissipation Failure     112\n",
       "Power Failure                 95\n",
       "Overstrain Failure            78\n",
       "Tool Wear Failure             45\n",
       "Random Failures               18\n",
       "Name: tipo_fallo, dtype: int64"
      ]
     },
     "execution_count": 735,
     "metadata": {},
     "output_type": "execute_result"
    }
   ],
   "source": [
    "dataset['tipo_fallo'].value_counts()"
   ]
  },
  {
   "cell_type": "code",
   "execution_count": 736,
   "id": "335400d5-5d29-4a90-b7fc-b0f193314740",
   "metadata": {},
   "outputs": [
    {
     "data": {
      "image/png": "[encoded data removed]",
      "text/plain": [
       "<Figure size 720x360 with 1 Axes>"
      ]
     },
     "metadata": {},
     "output_type": "display_data"
    }
   ],
   "source": [
    "plt.figure(figsize=(10,5))\n",
    "axis = sns.countplot(data=dataset ,x='tipo_fallo')"
   ]
  },
  {
   "cell_type": "markdown",
   "id": "3c08e957-88da-4d38-92e5-dbc7fbe54b2b",
   "metadata": {},
   "source": [
    "Esta columna tiene diferentes datos nominales que se deben categorizar.\n",
    "Nota importante: El tipo de fallo no contribuye al 'objetivo' debido a que se determina posterior al fallo."
   ]
  },
  {
   "cell_type": "markdown",
   "id": "1fedb2e9-3f87-4505-875f-3caefa983076",
   "metadata": {},
   "source": [
    "#### 1.5. Analizando la columna 'Objetivo'"
   ]
  },
  {
   "cell_type": "code",
   "execution_count": 737,
   "id": "f80b4480-c720-4cd6-b725-adf0da052912",
   "metadata": {},
   "outputs": [
    {
     "data": {
      "text/plain": [
       "0    9661\n",
       "1     339\n",
       "Name: objetivo, dtype: int64"
      ]
     },
     "execution_count": 737,
     "metadata": {},
     "output_type": "execute_result"
    }
   ],
   "source": [
    "dataset['objetivo'].value_counts()"
   ]
  },
  {
   "cell_type": "code",
   "execution_count": 738,
   "id": "88752d1e-eceb-4f28-a524-2c9d80ecaa10",
   "metadata": {},
   "outputs": [
    {
     "data": {
      "text/plain": [
       "0    96.61\n",
       "1     3.39\n",
       "Name: objetivo, dtype: float64"
      ]
     },
     "execution_count": 738,
     "metadata": {},
     "output_type": "execute_result"
    }
   ],
   "source": [
    "(dataset['objetivo'].value_counts()/dataset.shape[0]*100).round(2)"
   ]
  },
  {
   "cell_type": "markdown",
   "id": "f7f28e62-63cd-466d-a434-e725c9377cc3",
   "metadata": {},
   "source": [
    "Del total de registro 96.51% de equipos no fallaron y 3.39% fallaron."
   ]
  },
  {
   "cell_type": "markdown",
   "id": "d35f0767-95d9-4ca2-b4e4-3e509777dc2f",
   "metadata": {},
   "source": [
    "#### 1.6. Convertir la columna categórica 'tipo' en columnas manejables numéricamente"
   ]
  },
  {
   "cell_type": "code",
   "execution_count": 739,
   "id": "5d5fd014-d3c8-43dd-a938-95cb42d4bf2a",
   "metadata": {},
   "outputs": [
    {
     "data": {
      "text/html": [
       "<div>\n",
       "<style scoped>\n",
       "    .dataframe tbody tr th:only-of-type {\n",
       "        vertical-align: middle;\n",
       "    }\n",
       "\n",
       "    .dataframe tbody tr th {\n",
       "        vertical-align: top;\n",
       "    }\n",
       "\n",
       "    .dataframe thead th {\n",
       "        text-align: right;\n",
       "    }\n",
       "</style>\n",
       "<table border=\"1\" class=\"dataframe\">\n",
       "  <thead>\n",
       "    <tr style=\"text-align: right;\">\n",
       "      <th></th>\n",
       "      <th>id</th>\n",
       "      <th>id_producto</th>\n",
       "      <th>temperatura_aire</th>\n",
       "      <th>temperatura_proceso</th>\n",
       "      <th>velocidad_rotacion</th>\n",
       "      <th>torque</th>\n",
       "      <th>desgaste</th>\n",
       "      <th>objetivo</th>\n",
       "      <th>tipo_fallo</th>\n",
       "      <th>tipo_H</th>\n",
       "      <th>tipo_L</th>\n",
       "      <th>tipo_M</th>\n",
       "    </tr>\n",
       "  </thead>\n",
       "  <tbody>\n",
       "    <tr>\n",
       "      <th>0</th>\n",
       "      <td>1</td>\n",
       "      <td>M14860</td>\n",
       "      <td>298.1</td>\n",
       "      <td>308.6</td>\n",
       "      <td>1551</td>\n",
       "      <td>42.8</td>\n",
       "      <td>0</td>\n",
       "      <td>0</td>\n",
       "      <td>No Failure</td>\n",
       "      <td>0</td>\n",
       "      <td>0</td>\n",
       "      <td>1</td>\n",
       "    </tr>\n",
       "    <tr>\n",
       "      <th>1</th>\n",
       "      <td>2</td>\n",
       "      <td>L47181</td>\n",
       "      <td>298.2</td>\n",
       "      <td>308.7</td>\n",
       "      <td>1408</td>\n",
       "      <td>46.3</td>\n",
       "      <td>3</td>\n",
       "      <td>0</td>\n",
       "      <td>No Failure</td>\n",
       "      <td>0</td>\n",
       "      <td>1</td>\n",
       "      <td>0</td>\n",
       "    </tr>\n",
       "    <tr>\n",
       "      <th>2</th>\n",
       "      <td>3</td>\n",
       "      <td>L47182</td>\n",
       "      <td>298.1</td>\n",
       "      <td>308.5</td>\n",
       "      <td>1498</td>\n",
       "      <td>49.4</td>\n",
       "      <td>5</td>\n",
       "      <td>0</td>\n",
       "      <td>No Failure</td>\n",
       "      <td>0</td>\n",
       "      <td>1</td>\n",
       "      <td>0</td>\n",
       "    </tr>\n",
       "  </tbody>\n",
       "</table>\n",
       "</div>"
      ],
      "text/plain": [
       "   id id_producto  temperatura_aire  temperatura_proceso  velocidad_rotacion  \\\n",
       "0   1      M14860             298.1                308.6                1551   \n",
       "1   2      L47181             298.2                308.7                1408   \n",
       "2   3      L47182             298.1                308.5                1498   \n",
       "\n",
       "   torque  desgaste  objetivo  tipo_fallo  tipo_H  tipo_L  tipo_M  \n",
       "0    42.8         0         0  No Failure       0       0       1  \n",
       "1    46.3         3         0  No Failure       0       1       0  \n",
       "2    49.4         5         0  No Failure       0       1       0  "
      ]
     },
     "execution_count": 739,
     "metadata": {},
     "output_type": "execute_result"
    }
   ],
   "source": [
    "dataset = pd.get_dummies(dataset , columns=['tipo'])\n",
    "dataset.head(3)"
   ]
  },
  {
   "cell_type": "markdown",
   "id": "adffbc16-5498-4ce0-a85b-d0123fb8058d",
   "metadata": {},
   "source": [
    "Se convirtió la columna categórica 'tipo' en columnas ficticias para cada categoría ('tipo_H','tipo_M','tipo_L')."
   ]
  },
  {
   "cell_type": "markdown",
   "id": "a5b0ea09-f749-4391-ba0f-d932cc74d967",
   "metadata": {},
   "source": [
    "#### 1.7. Eliminando las columnas que no son relevantes para determinar el objetivo de fallo"
   ]
  },
  {
   "cell_type": "markdown",
   "id": "2d72cf80-5eb4-45d1-bc62-1b4596e6d1c1",
   "metadata": {},
   "source": [
    "observamos la correracion entre columnas"
   ]
  },
  {
   "cell_type": "code",
   "execution_count": 740,
   "id": "0fb78b6f-2d3c-4c2f-977f-dda2be8c35cd",
   "metadata": {},
   "outputs": [
    {
     "data": {
      "image/png": "[encoded data removed]",
      "text/plain": [
       "<Figure size 720x720 with 2 Axes>"
      ]
     },
     "metadata": {},
     "output_type": "display_data"
    }
   ],
   "source": [
    "fig, ax = plt.subplots(figsize=(10,10))  \n",
    "sns.heatmap(dataset.corr(), annot = True, square = True);"
   ]
  },
  {
   "cell_type": "code",
   "execution_count": 741,
   "id": "726b0ab9-0d65-4741-822a-57054b52c170",
   "metadata": {},
   "outputs": [
    {
     "data": {
      "text/html": [
       "<div>\n",
       "<style scoped>\n",
       "    .dataframe tbody tr th:only-of-type {\n",
       "        vertical-align: middle;\n",
       "    }\n",
       "\n",
       "    .dataframe tbody tr th {\n",
       "        vertical-align: top;\n",
       "    }\n",
       "\n",
       "    .dataframe thead th {\n",
       "        text-align: right;\n",
       "    }\n",
       "</style>\n",
       "<table border=\"1\" class=\"dataframe\">\n",
       "  <thead>\n",
       "    <tr style=\"text-align: right;\">\n",
       "      <th></th>\n",
       "      <th>temperatura_aire</th>\n",
       "      <th>temperatura_proceso</th>\n",
       "      <th>velocidad_rotacion</th>\n",
       "      <th>torque</th>\n",
       "      <th>desgaste</th>\n",
       "      <th>objetivo</th>\n",
       "      <th>tipo_H</th>\n",
       "      <th>tipo_L</th>\n",
       "      <th>tipo_M</th>\n",
       "    </tr>\n",
       "  </thead>\n",
       "  <tbody>\n",
       "    <tr>\n",
       "      <th>0</th>\n",
       "      <td>298.1</td>\n",
       "      <td>308.6</td>\n",
       "      <td>1551</td>\n",
       "      <td>42.8</td>\n",
       "      <td>0</td>\n",
       "      <td>0</td>\n",
       "      <td>0</td>\n",
       "      <td>0</td>\n",
       "      <td>1</td>\n",
       "    </tr>\n",
       "    <tr>\n",
       "      <th>1</th>\n",
       "      <td>298.2</td>\n",
       "      <td>308.7</td>\n",
       "      <td>1408</td>\n",
       "      <td>46.3</td>\n",
       "      <td>3</td>\n",
       "      <td>0</td>\n",
       "      <td>0</td>\n",
       "      <td>1</td>\n",
       "      <td>0</td>\n",
       "    </tr>\n",
       "    <tr>\n",
       "      <th>2</th>\n",
       "      <td>298.1</td>\n",
       "      <td>308.5</td>\n",
       "      <td>1498</td>\n",
       "      <td>49.4</td>\n",
       "      <td>5</td>\n",
       "      <td>0</td>\n",
       "      <td>0</td>\n",
       "      <td>1</td>\n",
       "      <td>0</td>\n",
       "    </tr>\n",
       "  </tbody>\n",
       "</table>\n",
       "</div>"
      ],
      "text/plain": [
       "   temperatura_aire  temperatura_proceso  velocidad_rotacion  torque  \\\n",
       "0             298.1                308.6                1551    42.8   \n",
       "1             298.2                308.7                1408    46.3   \n",
       "2             298.1                308.5                1498    49.4   \n",
       "\n",
       "   desgaste  objetivo  tipo_H  tipo_L  tipo_M  \n",
       "0         0         0       0       0       1  \n",
       "1         3         0       0       1       0  \n",
       "2         5         0       0       1       0  "
      ]
     },
     "execution_count": 741,
     "metadata": {},
     "output_type": "execute_result"
    }
   ],
   "source": [
    "datasetFinal = dataset.copy()\n",
    "columnasEliminar=['id','id_producto','tipo_fallo']\n",
    "datasetFinal.drop(columns=columnasEliminar ,axis=1, inplace=True)\n",
    "datasetFinal.head(3)"
   ]
  },
  {
   "cell_type": "markdown",
   "id": "10c49a0a-0149-4fe0-bbf4-23b2906780d6",
   "metadata": {},
   "source": [
    "Se eliminaron las columnas 'id','id_producto','tipo_fallo' que no son relevantes para determinar el 'fallo'."
   ]
  },
  {
   "cell_type": "code",
   "execution_count": 742,
   "id": "e447175f-6bf1-4fe2-bc70-2aa81e253f97",
   "metadata": {},
   "outputs": [
    {
     "name": "stderr",
     "output_type": "stream",
     "text": [
      "<ipython-input-742-2d7c429873ae>:3: UserWarning: To output multiple subplots, the figure containing the passed axes is being cleared\n",
      "  datasetFinal.hist(ax=ax)\n"
     ]
    },
    {
     "data": {
      "text/plain": [
       "array([[<AxesSubplot:title={'center':'temperatura_aire'}>,\n",
       "        <AxesSubplot:title={'center':'temperatura_proceso'}>,\n",
       "        <AxesSubplot:title={'center':'velocidad_rotacion'}>],\n",
       "       [<AxesSubplot:title={'center':'torque'}>,\n",
       "        <AxesSubplot:title={'center':'desgaste'}>,\n",
       "        <AxesSubplot:title={'center':'objetivo'}>],\n",
       "       [<AxesSubplot:title={'center':'tipo_H'}>,\n",
       "        <AxesSubplot:title={'center':'tipo_L'}>,\n",
       "        <AxesSubplot:title={'center':'tipo_M'}>]], dtype=object)"
      ]
     },
     "execution_count": 742,
     "metadata": {},
     "output_type": "execute_result"
    },
    {
     "data": {
      "image/png": "[encoded data removed]",
      "text/plain": [
       "<Figure size 1080x1080 with 9 Axes>"
      ]
     },
     "metadata": {},
     "output_type": "display_data"
    }
   ],
   "source": [
    "fig = plt.figure(figsize=(15,15))\n",
    "ax = plt.gca()\n",
    "datasetFinal.hist(ax=ax)"
   ]
  },
  {
   "cell_type": "markdown",
   "id": "7d282e4b-4c04-467d-8722-f01c5936920d",
   "metadata": {},
   "source": [
    "Observamos mediante un histograma la distribución de los datos y podemos observar que las columnas temperatura_aire, temperatura_proceso, torque siguen una distribución normal. Sin embargo el desgaste no sigue una distribución normal y debido a la mezcla de las tres categorías no proporciona mucha información. Por último las columnas 'objetivo', 'tipo_H', 'tipo_M', 'tipo_L' son variables categóricas."
   ]
  },
  {
   "cell_type": "markdown",
   "id": "f8ac92db-4627-4e26-930d-613b56b6b783",
   "metadata": {},
   "source": [
    "Utilizando una gráfica de Boxplot para identificar los valores atípicos (outliers)."
   ]
  },
  {
   "cell_type": "code",
   "execution_count": 743,
   "id": "2e57b115-b7ce-4dfd-a71a-d8f84db5955a",
   "metadata": {},
   "outputs": [
    {
     "data": {
      "text/plain": [
       "<AxesSubplot:>"
      ]
     },
     "execution_count": 743,
     "metadata": {},
     "output_type": "execute_result"
    },
    {
     "data": {
      "image/png": "[encoded data removed]",
      "text/plain": [
       "<Figure size 1080x1080 with 1 Axes>"
      ]
     },
     "metadata": {},
     "output_type": "display_data"
    }
   ],
   "source": [
    "fig = plt.figure(figsize=(15,15))\n",
    "ax =plt.gca()\n",
    "pd.DataFrame( scale(datasetFinal) ,columns= datasetFinal.columns ).boxplot(ax=ax,whis=1.5)"
   ]
  },
  {
   "cell_type": "markdown",
   "id": "8ff9bc93-1c05-4716-a2f4-30beed538751",
   "metadata": {},
   "source": [
    "Podemos observar que las columnas 'velocidad_rotacion', 'torque' tienen valores atípicos (outliers) y las Columnas 'objetivo', 'tipo_H', 'tipo_M', 'tipo_L' son variables categóricas."
   ]
  },
  {
   "cell_type": "markdown",
   "id": "26e48a4f-3828-4a97-abbc-3fe93340ac1d",
   "metadata": {},
   "source": [
    "Procedemos a eliminar los datos atipocos de la columna 'velocidad_rotacion'"
   ]
  },
  {
   "cell_type": "code",
   "execution_count": 744,
   "id": "1a063495-5028-4237-a8fc-f75209cd8217",
   "metadata": {},
   "outputs": [
    {
     "data": {
      "text/html": [
       "<div>\n",
       "<style scoped>\n",
       "    .dataframe tbody tr th:only-of-type {\n",
       "        vertical-align: middle;\n",
       "    }\n",
       "\n",
       "    .dataframe tbody tr th {\n",
       "        vertical-align: top;\n",
       "    }\n",
       "\n",
       "    .dataframe thead th {\n",
       "        text-align: right;\n",
       "    }\n",
       "</style>\n",
       "<table border=\"1\" class=\"dataframe\">\n",
       "  <thead>\n",
       "    <tr style=\"text-align: right;\">\n",
       "      <th></th>\n",
       "      <th>temperatura_aire</th>\n",
       "      <th>temperatura_proceso</th>\n",
       "      <th>velocidad_rotacion</th>\n",
       "      <th>torque</th>\n",
       "      <th>desgaste</th>\n",
       "      <th>objetivo</th>\n",
       "      <th>tipo_H</th>\n",
       "      <th>tipo_L</th>\n",
       "      <th>tipo_M</th>\n",
       "    </tr>\n",
       "  </thead>\n",
       "  <tbody>\n",
       "    <tr>\n",
       "      <th>0</th>\n",
       "      <td>298.1</td>\n",
       "      <td>308.6</td>\n",
       "      <td>1551</td>\n",
       "      <td>42.8</td>\n",
       "      <td>0</td>\n",
       "      <td>0</td>\n",
       "      <td>0</td>\n",
       "      <td>0</td>\n",
       "      <td>1</td>\n",
       "    </tr>\n",
       "    <tr>\n",
       "      <th>1</th>\n",
       "      <td>298.2</td>\n",
       "      <td>308.7</td>\n",
       "      <td>1408</td>\n",
       "      <td>46.3</td>\n",
       "      <td>3</td>\n",
       "      <td>0</td>\n",
       "      <td>0</td>\n",
       "      <td>1</td>\n",
       "      <td>0</td>\n",
       "    </tr>\n",
       "    <tr>\n",
       "      <th>2</th>\n",
       "      <td>298.1</td>\n",
       "      <td>308.5</td>\n",
       "      <td>1498</td>\n",
       "      <td>49.4</td>\n",
       "      <td>5</td>\n",
       "      <td>0</td>\n",
       "      <td>0</td>\n",
       "      <td>1</td>\n",
       "      <td>0</td>\n",
       "    </tr>\n",
       "    <tr>\n",
       "      <th>3</th>\n",
       "      <td>298.2</td>\n",
       "      <td>308.6</td>\n",
       "      <td>1433</td>\n",
       "      <td>39.5</td>\n",
       "      <td>7</td>\n",
       "      <td>0</td>\n",
       "      <td>0</td>\n",
       "      <td>1</td>\n",
       "      <td>0</td>\n",
       "    </tr>\n",
       "    <tr>\n",
       "      <th>4</th>\n",
       "      <td>298.2</td>\n",
       "      <td>308.7</td>\n",
       "      <td>1408</td>\n",
       "      <td>40.0</td>\n",
       "      <td>9</td>\n",
       "      <td>0</td>\n",
       "      <td>0</td>\n",
       "      <td>1</td>\n",
       "      <td>0</td>\n",
       "    </tr>\n",
       "    <tr>\n",
       "      <th>...</th>\n",
       "      <td>...</td>\n",
       "      <td>...</td>\n",
       "      <td>...</td>\n",
       "      <td>...</td>\n",
       "      <td>...</td>\n",
       "      <td>...</td>\n",
       "      <td>...</td>\n",
       "      <td>...</td>\n",
       "      <td>...</td>\n",
       "    </tr>\n",
       "    <tr>\n",
       "      <th>9995</th>\n",
       "      <td>298.8</td>\n",
       "      <td>308.4</td>\n",
       "      <td>1604</td>\n",
       "      <td>29.5</td>\n",
       "      <td>14</td>\n",
       "      <td>0</td>\n",
       "      <td>0</td>\n",
       "      <td>0</td>\n",
       "      <td>1</td>\n",
       "    </tr>\n",
       "    <tr>\n",
       "      <th>9996</th>\n",
       "      <td>298.9</td>\n",
       "      <td>308.4</td>\n",
       "      <td>1632</td>\n",
       "      <td>31.8</td>\n",
       "      <td>17</td>\n",
       "      <td>0</td>\n",
       "      <td>1</td>\n",
       "      <td>0</td>\n",
       "      <td>0</td>\n",
       "    </tr>\n",
       "    <tr>\n",
       "      <th>9997</th>\n",
       "      <td>299.0</td>\n",
       "      <td>308.6</td>\n",
       "      <td>1645</td>\n",
       "      <td>33.4</td>\n",
       "      <td>22</td>\n",
       "      <td>0</td>\n",
       "      <td>0</td>\n",
       "      <td>0</td>\n",
       "      <td>1</td>\n",
       "    </tr>\n",
       "    <tr>\n",
       "      <th>9998</th>\n",
       "      <td>299.0</td>\n",
       "      <td>308.7</td>\n",
       "      <td>1408</td>\n",
       "      <td>48.5</td>\n",
       "      <td>25</td>\n",
       "      <td>0</td>\n",
       "      <td>1</td>\n",
       "      <td>0</td>\n",
       "      <td>0</td>\n",
       "    </tr>\n",
       "    <tr>\n",
       "      <th>9999</th>\n",
       "      <td>299.0</td>\n",
       "      <td>308.7</td>\n",
       "      <td>1500</td>\n",
       "      <td>40.2</td>\n",
       "      <td>30</td>\n",
       "      <td>0</td>\n",
       "      <td>0</td>\n",
       "      <td>0</td>\n",
       "      <td>1</td>\n",
       "    </tr>\n",
       "  </tbody>\n",
       "</table>\n",
       "<p>9582 rows × 9 columns</p>\n",
       "</div>"
      ],
      "text/plain": [
       "      temperatura_aire  temperatura_proceso  velocidad_rotacion  torque  \\\n",
       "0                298.1                308.6                1551    42.8   \n",
       "1                298.2                308.7                1408    46.3   \n",
       "2                298.1                308.5                1498    49.4   \n",
       "3                298.2                308.6                1433    39.5   \n",
       "4                298.2                308.7                1408    40.0   \n",
       "...                ...                  ...                 ...     ...   \n",
       "9995             298.8                308.4                1604    29.5   \n",
       "9996             298.9                308.4                1632    31.8   \n",
       "9997             299.0                308.6                1645    33.4   \n",
       "9998             299.0                308.7                1408    48.5   \n",
       "9999             299.0                308.7                1500    40.2   \n",
       "\n",
       "      desgaste  objetivo  tipo_H  tipo_L  tipo_M  \n",
       "0            0         0       0       0       1  \n",
       "1            3         0       0       1       0  \n",
       "2            5         0       0       1       0  \n",
       "3            7         0       0       1       0  \n",
       "4            9         0       0       1       0  \n",
       "...        ...       ...     ...     ...     ...  \n",
       "9995        14         0       0       0       1  \n",
       "9996        17         0       1       0       0  \n",
       "9997        22         0       0       0       1  \n",
       "9998        25         0       1       0       0  \n",
       "9999        30         0       0       0       1  \n",
       "\n",
       "[9582 rows x 9 columns]"
      ]
     },
     "execution_count": 744,
     "metadata": {},
     "output_type": "execute_result"
    }
   ],
   "source": [
    "q1Vr = datasetFinal['velocidad_rotacion'].quantile(.25)\n",
    "q3Vr = datasetFinal['velocidad_rotacion'].quantile(.75)\n",
    "iqrVr = q3Vr - q1Vr\n",
    "topVr = q3Vr + iqrVr * 1.5\n",
    "botVr = q1Vr - iqrVr * 1.5\n",
    "datasetFinalIQR = datasetFinal.copy()\n",
    "datasetFinalIQR = datasetFinalIQR.drop( datasetFinalIQR[ datasetFinalIQR['velocidad_rotacion']>topVr].index )\n",
    "datasetFinalIQR = datasetFinalIQR.drop( datasetFinalIQR[ datasetFinalIQR['velocidad_rotacion']<botVr].index )\n",
    "datasetFinalIQR"
   ]
  },
  {
   "cell_type": "markdown",
   "id": "3b8a0908-d457-4e1e-990e-53b1759c558d",
   "metadata": {},
   "source": [
    "Procedemos a eliminar los datos atipocos de la columna 'torque'"
   ]
  },
  {
   "cell_type": "code",
   "execution_count": 745,
   "id": "4fe27f2c-0baf-4e52-8434-8aac3b9a8439",
   "metadata": {},
   "outputs": [
    {
     "data": {
      "text/html": [
       "<div>\n",
       "<style scoped>\n",
       "    .dataframe tbody tr th:only-of-type {\n",
       "        vertical-align: middle;\n",
       "    }\n",
       "\n",
       "    .dataframe tbody tr th {\n",
       "        vertical-align: top;\n",
       "    }\n",
       "\n",
       "    .dataframe thead th {\n",
       "        text-align: right;\n",
       "    }\n",
       "</style>\n",
       "<table border=\"1\" class=\"dataframe\">\n",
       "  <thead>\n",
       "    <tr style=\"text-align: right;\">\n",
       "      <th></th>\n",
       "      <th>temperatura_aire</th>\n",
       "      <th>temperatura_proceso</th>\n",
       "      <th>velocidad_rotacion</th>\n",
       "      <th>torque</th>\n",
       "      <th>desgaste</th>\n",
       "      <th>objetivo</th>\n",
       "      <th>tipo_H</th>\n",
       "      <th>tipo_L</th>\n",
       "      <th>tipo_M</th>\n",
       "    </tr>\n",
       "  </thead>\n",
       "  <tbody>\n",
       "    <tr>\n",
       "      <th>0</th>\n",
       "      <td>298.1</td>\n",
       "      <td>308.6</td>\n",
       "      <td>1551</td>\n",
       "      <td>42.8</td>\n",
       "      <td>0</td>\n",
       "      <td>0</td>\n",
       "      <td>0</td>\n",
       "      <td>0</td>\n",
       "      <td>1</td>\n",
       "    </tr>\n",
       "    <tr>\n",
       "      <th>1</th>\n",
       "      <td>298.2</td>\n",
       "      <td>308.7</td>\n",
       "      <td>1408</td>\n",
       "      <td>46.3</td>\n",
       "      <td>3</td>\n",
       "      <td>0</td>\n",
       "      <td>0</td>\n",
       "      <td>1</td>\n",
       "      <td>0</td>\n",
       "    </tr>\n",
       "    <tr>\n",
       "      <th>2</th>\n",
       "      <td>298.1</td>\n",
       "      <td>308.5</td>\n",
       "      <td>1498</td>\n",
       "      <td>49.4</td>\n",
       "      <td>5</td>\n",
       "      <td>0</td>\n",
       "      <td>0</td>\n",
       "      <td>1</td>\n",
       "      <td>0</td>\n",
       "    </tr>\n",
       "    <tr>\n",
       "      <th>3</th>\n",
       "      <td>298.2</td>\n",
       "      <td>308.6</td>\n",
       "      <td>1433</td>\n",
       "      <td>39.5</td>\n",
       "      <td>7</td>\n",
       "      <td>0</td>\n",
       "      <td>0</td>\n",
       "      <td>1</td>\n",
       "      <td>0</td>\n",
       "    </tr>\n",
       "    <tr>\n",
       "      <th>4</th>\n",
       "      <td>298.2</td>\n",
       "      <td>308.7</td>\n",
       "      <td>1408</td>\n",
       "      <td>40.0</td>\n",
       "      <td>9</td>\n",
       "      <td>0</td>\n",
       "      <td>0</td>\n",
       "      <td>1</td>\n",
       "      <td>0</td>\n",
       "    </tr>\n",
       "    <tr>\n",
       "      <th>...</th>\n",
       "      <td>...</td>\n",
       "      <td>...</td>\n",
       "      <td>...</td>\n",
       "      <td>...</td>\n",
       "      <td>...</td>\n",
       "      <td>...</td>\n",
       "      <td>...</td>\n",
       "      <td>...</td>\n",
       "      <td>...</td>\n",
       "    </tr>\n",
       "    <tr>\n",
       "      <th>9995</th>\n",
       "      <td>298.8</td>\n",
       "      <td>308.4</td>\n",
       "      <td>1604</td>\n",
       "      <td>29.5</td>\n",
       "      <td>14</td>\n",
       "      <td>0</td>\n",
       "      <td>0</td>\n",
       "      <td>0</td>\n",
       "      <td>1</td>\n",
       "    </tr>\n",
       "    <tr>\n",
       "      <th>9996</th>\n",
       "      <td>298.9</td>\n",
       "      <td>308.4</td>\n",
       "      <td>1632</td>\n",
       "      <td>31.8</td>\n",
       "      <td>17</td>\n",
       "      <td>0</td>\n",
       "      <td>1</td>\n",
       "      <td>0</td>\n",
       "      <td>0</td>\n",
       "    </tr>\n",
       "    <tr>\n",
       "      <th>9997</th>\n",
       "      <td>299.0</td>\n",
       "      <td>308.6</td>\n",
       "      <td>1645</td>\n",
       "      <td>33.4</td>\n",
       "      <td>22</td>\n",
       "      <td>0</td>\n",
       "      <td>0</td>\n",
       "      <td>0</td>\n",
       "      <td>1</td>\n",
       "    </tr>\n",
       "    <tr>\n",
       "      <th>9998</th>\n",
       "      <td>299.0</td>\n",
       "      <td>308.7</td>\n",
       "      <td>1408</td>\n",
       "      <td>48.5</td>\n",
       "      <td>25</td>\n",
       "      <td>0</td>\n",
       "      <td>1</td>\n",
       "      <td>0</td>\n",
       "      <td>0</td>\n",
       "    </tr>\n",
       "    <tr>\n",
       "      <th>9999</th>\n",
       "      <td>299.0</td>\n",
       "      <td>308.7</td>\n",
       "      <td>1500</td>\n",
       "      <td>40.2</td>\n",
       "      <td>30</td>\n",
       "      <td>0</td>\n",
       "      <td>0</td>\n",
       "      <td>0</td>\n",
       "      <td>1</td>\n",
       "    </tr>\n",
       "  </tbody>\n",
       "</table>\n",
       "<p>9535 rows × 9 columns</p>\n",
       "</div>"
      ],
      "text/plain": [
       "      temperatura_aire  temperatura_proceso  velocidad_rotacion  torque  \\\n",
       "0                298.1                308.6                1551    42.8   \n",
       "1                298.2                308.7                1408    46.3   \n",
       "2                298.1                308.5                1498    49.4   \n",
       "3                298.2                308.6                1433    39.5   \n",
       "4                298.2                308.7                1408    40.0   \n",
       "...                ...                  ...                 ...     ...   \n",
       "9995             298.8                308.4                1604    29.5   \n",
       "9996             298.9                308.4                1632    31.8   \n",
       "9997             299.0                308.6                1645    33.4   \n",
       "9998             299.0                308.7                1408    48.5   \n",
       "9999             299.0                308.7                1500    40.2   \n",
       "\n",
       "      desgaste  objetivo  tipo_H  tipo_L  tipo_M  \n",
       "0            0         0       0       0       1  \n",
       "1            3         0       0       1       0  \n",
       "2            5         0       0       1       0  \n",
       "3            7         0       0       1       0  \n",
       "4            9         0       0       1       0  \n",
       "...        ...       ...     ...     ...     ...  \n",
       "9995        14         0       0       0       1  \n",
       "9996        17         0       1       0       0  \n",
       "9997        22         0       0       0       1  \n",
       "9998        25         0       1       0       0  \n",
       "9999        30         0       0       0       1  \n",
       "\n",
       "[9535 rows x 9 columns]"
      ]
     },
     "execution_count": 745,
     "metadata": {},
     "output_type": "execute_result"
    }
   ],
   "source": [
    "q1T = datasetFinalIQR['torque'].quantile(.25)\n",
    "q3T = datasetFinalIQR['torque'].quantile(.75)\n",
    "iqrT = q3T - q1T\n",
    "topT = q3T + iqrT * 1.5\n",
    "botT = q1T - iqrT * 1.5\n",
    "datasetFinalIQR = datasetFinalIQR.drop( datasetFinalIQR[ datasetFinalIQR['torque']>topT].index )\n",
    "datasetFinalIQR = datasetFinalIQR.drop( datasetFinalIQR[ datasetFinalIQR['torque']<botT].index )\n",
    "datasetFinal = datasetFinalIQR.copy()\n",
    "datasetFinal"
   ]
  },
  {
   "cell_type": "markdown",
   "id": "8b3aa430-1a69-487d-b883-2f3a18c7f59f",
   "metadata": {},
   "source": [
    "Volvemos a graficar el boxplot una vez eliminado los valores atípicos"
   ]
  },
  {
   "cell_type": "code",
   "execution_count": 746,
   "id": "e29b6357-4842-4c3e-8c33-237699a4dd5d",
   "metadata": {},
   "outputs": [
    {
     "data": {
      "text/plain": [
       "<AxesSubplot:>"
      ]
     },
     "execution_count": 746,
     "metadata": {},
     "output_type": "execute_result"
    },
    {
     "data": {
      "image/png": "[encoded data removed]",
      "text/plain": [
       "<Figure size 1080x1080 with 1 Axes>"
      ]
     },
     "metadata": {},
     "output_type": "display_data"
    }
   ],
   "source": [
    "fig = plt.figure(figsize=(15,15))\n",
    "ax =plt.gca()\n",
    "pd.DataFrame( scale(datasetFinal) ,columns= datasetFinal.columns ).boxplot(ax=ax,whis=1.5)"
   ]
  },
  {
   "cell_type": "markdown",
   "id": "9b617a01-a801-4fc2-85f6-a866f7e8725a",
   "metadata": {},
   "source": [
    "#### 1.8. Especificando datos para Entrenamiento y Pruebas"
   ]
  },
  {
   "cell_type": "code",
   "execution_count": 747,
   "id": "7c4a08e5-6dfe-4e30-a425-c987c2a7bee1",
   "metadata": {},
   "outputs": [
    {
     "data": {
      "text/plain": [
       "(9535, 8)"
      ]
     },
     "metadata": {},
     "output_type": "display_data"
    },
    {
     "data": {
      "text/plain": [
       "(9535,)"
      ]
     },
     "metadata": {},
     "output_type": "display_data"
    }
   ],
   "source": [
    "datasetFinal_X = datasetFinal.drop(['objetivo'],axis=1)\n",
    "datasetFinal_Y = datasetFinal['objetivo']\n",
    "display(datasetFinal_X.shape,datasetFinal_Y.shape)"
   ]
  },
  {
   "cell_type": "code",
   "execution_count": 748,
   "id": "e9753878-5af5-4ad4-bdf6-c5d54e3e54e9",
   "metadata": {},
   "outputs": [
    {
     "data": {
      "text/plain": [
       "0    9272\n",
       "1     263\n",
       "Name: objetivo, dtype: int64"
      ]
     },
     "execution_count": 748,
     "metadata": {},
     "output_type": "execute_result"
    }
   ],
   "source": [
    "datasetFinal_Y.value_counts()"
   ]
  },
  {
   "cell_type": "markdown",
   "id": "d957cd89-67b4-4afc-8c29-499885c57eaf",
   "metadata": {},
   "source": [
    "### 2. Entrenamiento con un Modelo de Machine Learning"
   ]
  },
  {
   "cell_type": "markdown",
   "id": "98760e80-6d1a-4a5f-aff7-8d99e8141d73",
   "metadata": {},
   "source": [
    "División de los datos 80% para entrenamiento y 20% para pruebas."
   ]
  },
  {
   "cell_type": "code",
   "execution_count": 749,
   "id": "ddfe82ec-1ed4-4ef6-8675-2135c0bfeb3a",
   "metadata": {},
   "outputs": [
    {
     "name": "stdout",
     "output_type": "stream",
     "text": [
      "Cantidad de datos para entrenamiento\n"
     ]
    },
    {
     "data": {
      "text/plain": [
       "(7628, 8)"
      ]
     },
     "metadata": {},
     "output_type": "display_data"
    },
    {
     "data": {
      "text/plain": [
       "(7628,)"
      ]
     },
     "metadata": {},
     "output_type": "display_data"
    },
    {
     "name": "stdout",
     "output_type": "stream",
     "text": [
      "Cantidad de datos para pruebas\n"
     ]
    },
    {
     "data": {
      "text/plain": [
       "(1907, 8)"
      ]
     },
     "metadata": {},
     "output_type": "display_data"
    },
    {
     "data": {
      "text/plain": [
       "(1907,)"
      ]
     },
     "metadata": {},
     "output_type": "display_data"
    }
   ],
   "source": [
    "X_train, X_test, Y_train, Y_test = train_test_split(datasetFinal_X, datasetFinal_Y, test_size = 0.2, random_state = 42)\n",
    "#X_train, X_test, Y_train, Y_test = train_test_split(datasetFinal_X, datasetFinal_Y, test_size = 0.2)\n",
    "print(\"Cantidad de datos para entrenamiento\")\n",
    "display(X_train.shape,Y_train.shape)\n",
    "print(\"Cantidad de datos para pruebas\")\n",
    "display(X_test.shape,Y_test.shape)"
   ]
  },
  {
   "cell_type": "markdown",
   "id": "3644bb57-d39d-455c-a089-628a2c72d3b2",
   "metadata": {},
   "source": [
    "Estandarizamos los datos"
   ]
  },
  {
   "cell_type": "code",
   "execution_count": 750,
   "id": "6a509634-39df-4134-bdd2-139f83a0505e",
   "metadata": {},
   "outputs": [],
   "source": [
    "sc = StandardScaler()\n",
    "X_train = sc.fit_transform(X_train)\n",
    "X_test = sc.transform(X_test)"
   ]
  },
  {
   "cell_type": "markdown",
   "id": "60b51fe4-cd54-4a9c-afb8-0f1bde638513",
   "metadata": {},
   "source": [
    "Creación del modelo machine learning"
   ]
  },
  {
   "cell_type": "code",
   "execution_count": 751,
   "id": "adbb9fa2-3518-4ec5-be31-f707f2bb01ef",
   "metadata": {},
   "outputs": [],
   "source": [
    "#modelo = KNeighborsClassifier(n_neighbors=1)\n",
    "#              precision    recall  f1-score   support\n",
    "#           0       0.98      0.99      0.99      1848\n",
    "#           1       0.64      0.36      0.46        59\n",
    "\n",
    "modelo = KNeighborsClassifier(n_neighbors=1,metric='manhattan') #p=1,2\n",
    "#              precision    recall  f1-score   support\n",
    "#           0       0.98      0.99      0.99      1848\n",
    "#           1       0.58      0.37      0.45        59\n",
    "\n",
    "#modelo = KNeighborsClassifier(n_neighbors=2,metric='euclidean',algorithm='kd_tree', weights='distance')\n",
    "#              precision    recall  f1-score   support\n",
    "#           0       0.98      0.99      0.99      1848\n",
    "#           1       0.64      0.36      0.46        59"
   ]
  },
  {
   "cell_type": "markdown",
   "id": "23c2c799-7cbd-4db0-8432-3d62db0463f7",
   "metadata": {},
   "source": [
    "Entrenamiento del modelo"
   ]
  },
  {
   "cell_type": "code",
   "execution_count": 752,
   "id": "f32a9b3b-46cb-472c-a245-5d4277bd864b",
   "metadata": {},
   "outputs": [
    {
     "data": {
      "text/plain": [
       "KNeighborsClassifier(metric='manhattan', n_neighbors=1)"
      ]
     },
     "execution_count": 752,
     "metadata": {},
     "output_type": "execute_result"
    }
   ],
   "source": [
    "modelo.fit(X_train, Y_train)"
   ]
  },
  {
   "cell_type": "markdown",
   "id": "82458188-303f-4222-a473-4bf7fe8a4b13",
   "metadata": {},
   "source": [
    "Calculando la presición de modelo, utilizando los datos de prueba (X_test, Y_test)"
   ]
  },
  {
   "cell_type": "code",
   "execution_count": 753,
   "id": "7848c30c-2ca5-48b4-ad84-3194ffdf20a1",
   "metadata": {},
   "outputs": [
    {
     "name": "stdout",
     "output_type": "stream",
     "text": [
      "PRECISION MODELO:  0.9722076560041951\n"
     ]
    }
   ],
   "source": [
    "precision = modelo.score(X_test,Y_test)\n",
    "print(\"PRECISION MODELO: \", precision)"
   ]
  },
  {
   "cell_type": "markdown",
   "id": "53da3481-2b7f-4786-b926-1f688ad32c39",
   "metadata": {},
   "source": [
    "Calculamos Y_pred (son los valores objetivo que predice el modelo)"
   ]
  },
  {
   "cell_type": "code",
   "execution_count": 754,
   "id": "7fa42dec-2415-4478-bbba-f7ba58b7f181",
   "metadata": {},
   "outputs": [],
   "source": [
    "Y_pred = modelo.predict(X_test)"
   ]
  },
  {
   "cell_type": "markdown",
   "id": "b3555be2-75f2-4c42-b6ae-3748c15f5a2f",
   "metadata": {},
   "source": [
    "Mediante una matriz de confusión verificamos la precision de los datos predecidos Y_pred vs los datos esperados Y_test "
   ]
  },
  {
   "cell_type": "code",
   "execution_count": 755,
   "id": "6594fd50-57d3-465d-9a9e-0d7ad350aa45",
   "metadata": {
    "tags": []
   },
   "outputs": [
    {
     "data": {
      "text/plain": [
       "<AxesSubplot:>"
      ]
     },
     "execution_count": 755,
     "metadata": {},
     "output_type": "execute_result"
    },
    {
     "data": {
      "image/png": "[encoded data removed]",
      "text/plain": [
       "<Figure size 432x288 with 2 Axes>"
      ]
     },
     "metadata": {},
     "output_type": "display_data"
    }
   ],
   "source": [
    "matriz_confusion = confusion_matrix(Y_test, Y_pred)\n",
    "sns.heatmap(matriz_confusion, annot = True, fmt='g')"
   ]
  },
  {
   "cell_type": "markdown",
   "id": "232d0f0f-2cc1-4f70-8cb3-4ac1a887c8fe",
   "metadata": {},
   "source": [
    "Analizamos los resultados nos lanza el 'classification_report', entre los más importantes se encuentran el Recall"
   ]
  },
  {
   "cell_type": "code",
   "execution_count": 756,
   "id": "0820df8c-afc2-4d14-9a43-27ec9ff0d5bd",
   "metadata": {},
   "outputs": [
    {
     "name": "stdout",
     "output_type": "stream",
     "text": [
      "              precision    recall  f1-score   support\n",
      "\n",
      "           0       0.98      0.99      0.99      1848\n",
      "           1       0.58      0.37      0.45        59\n",
      "\n",
      "    accuracy                           0.97      1907\n",
      "   macro avg       0.78      0.68      0.72      1907\n",
      "weighted avg       0.97      0.97      0.97      1907\n",
      "\n"
     ]
    }
   ],
   "source": [
    "print(classification_report(Y_test, Y_pred))"
   ]
  }
 ],
 "metadata": {
  "kernelspec": {
   "display_name": "Python 3",
   "language": "python",
   "name": "python3"
  },
  "language_info": {
   "codemirror_mode": {
    "name": "ipython",
    "version": 3
   },
   "file_extension": ".py",
   "mimetype": "text/x-python",
   "name": "python",
   "nbconvert_exporter": "python",
   "pygments_lexer": "ipython3",
   "version": "3.8.8"
  }
 },
 "nbformat": 4,
 "nbformat_minor": 5
}
